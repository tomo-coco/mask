{
 "cells": [
  {
   "cell_type": "markdown",
   "metadata": {},
   "source": [
    "# マスク画像を作る"
   ]
  },
  {
   "cell_type": "code",
   "execution_count": 13,
   "metadata": {},
   "outputs": [],
   "source": [
    "# マスク画像を作る\n",
    "# ボーン画像をグレースケールにする。拡張子はbmpで読み込む\n",
    "import os\n",
    "import cv2\n",
    "import glob\n",
    "\n",
    "#　フォルダ名の指定\n",
    "from_dir1 = \"./bone/*\"\n",
    "out_dir1 = \"./result\"\n",
    "\n",
    "files = glob.glob(from_dir1)\n",
    "for file in files:\n",
    "\n",
    "    # マスクにするボーン画像の選択\n",
    "    im = cv2.imread(file, cv2.IMREAD_GRAYSCALE)\n",
    "\n",
    "    retval, dst = cv2.threshold(im, 0, 255, cv2.THRESH_BINARY + cv2.THRESH_TRIANGLE)\n",
    "\n",
    "    # マスク画像の保存\n",
    "    # ファイル名を指定\n",
    "    cv2.imwrite(out_dir1 + '/{}.bmp'.format(file[8:10]), dst)"
   ]
  },
  {
   "cell_type": "markdown",
   "metadata": {},
   "source": [
    "# マスクを被せる"
   ]
  },
  {
   "cell_type": "code",
   "execution_count": 14,
   "metadata": {},
   "outputs": [],
   "source": [
    "## オリジナルの画像の上にボーン画像から作ったマスクを被せる\n",
    "\n",
    "from_dir2 = \"./result/*\"\n",
    "from_dir3 = \"./original/*\"\n",
    "\n",
    "files2 = glob.glob(from_dir2)\n",
    "files3 = glob.glob(from_dir3)\n",
    "\n",
    "\n",
    "for n1 in files2:\n",
    "    name1 = os.path.splitext(os.path.basename(n1))[0]\n",
    "    for n2 in files3:\n",
    "        name2 = os.path.splitext(os.path.basename(n2))[0]\n",
    "        if name1 == name2:\n",
    "            im_1 = cv2.imread(n1, cv2.IMREAD_COLOR) \n",
    "            im_mask = cv2.imread(n2)\n",
    "            im_out = cv2.bitwise_and(im_1, im_mask)\n",
    "            # 画像の保存\n",
    "            cv2.imwrite('last/{}.jpg'.format(name1), im_out)"
   ]
  },
  {
   "cell_type": "code",
   "execution_count": null,
   "metadata": {},
   "outputs": [],
   "source": []
  }
 ],
 "metadata": {
  "kernelspec": {
   "display_name": "Python 3",
   "language": "python",
   "name": "python3"
  },
  "language_info": {
   "codemirror_mode": {
    "name": "ipython",
    "version": 3
   },
   "file_extension": ".py",
   "mimetype": "text/x-python",
   "name": "python",
   "nbconvert_exporter": "python",
   "pygments_lexer": "ipython3",
   "version": "3.7.6"
  }
 },
 "nbformat": 4,
 "nbformat_minor": 4
}
